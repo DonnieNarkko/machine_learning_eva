{
  "nbformat": 4,
  "nbformat_minor": 0,
  "metadata": {
    "colab": {
      "provenance": [],
      "authorship_tag": "ABX9TyOnxfyAEV4IsxVr9hchkuCN",
      "include_colab_link": true
    },
    "kernelspec": {
      "name": "python3",
      "display_name": "Python 3"
    },
    "language_info": {
      "name": "python"
    }
  },
  "cells": [
    {
      "cell_type": "markdown",
      "metadata": {
        "id": "view-in-github",
        "colab_type": "text"
      },
      "source": [
        "<a href=\"https://colab.research.google.com/github/DonnieNarkko/machine_learning_eva/blob/main/cat_dog_ML.ipynb\" target=\"_parent\"><img src=\"https://colab.research.google.com/assets/colab-badge.svg\" alt=\"Open In Colab\"/></a>"
      ]
    },
    {
      "cell_type": "code",
      "source": [
        "!nvidia-smi -L || echo \"Sin GPU\"\n",
        "\n",
        "!pip -q install -U tensorflow-datasets pillow"
      ],
      "metadata": {
        "colab": {
          "base_uri": "https://localhost:8080/"
        },
        "id": "uYuvlnaFf6jW",
        "outputId": "17f02802-d73d-414d-dadd-c0c761f5ab62"
      },
      "execution_count": 1,
      "outputs": [
        {
          "output_type": "stream",
          "name": "stdout",
          "text": [
            "/bin/bash: line 1: nvidia-smi: command not found\n",
            "Sin GPU\n"
          ]
        }
      ]
    },
    {
      "cell_type": "code",
      "source": [
        "import os, shutil\n",
        "from google.colab import files\n",
        "from pathlib import Path\n",
        "\n",
        "SAMPLES_DIR = Path(\"/content/samples\")\n",
        "SAMPLES_DIR.mkdir(parents=True, exist_ok=True)\n",
        "\n",
        "print(\"Sube tus imágenes (puedes seleccionar varias):\")\n",
        "uploaded = files.upload()\n",
        "for name in uploaded.keys():\n",
        "    shutil.move(name, SAMPLES_DIR / name)\n",
        "\n",
        "print(\"Imágenes en\", SAMPLES_DIR)\n",
        "!ls -la /content/samples\n"
      ],
      "metadata": {
        "colab": {
          "base_uri": "https://localhost:8080/",
          "height": 281
        },
        "id": "wmuLU6v1gC0e",
        "outputId": "7e17a4e0-3b7b-4130-9de7-dbed2985147f"
      },
      "execution_count": 5,
      "outputs": [
        {
          "output_type": "stream",
          "name": "stdout",
          "text": [
            "Sube tus imágenes (puedes seleccionar varias):\n"
          ]
        },
        {
          "output_type": "display_data",
          "data": {
            "text/plain": [
              "<IPython.core.display.HTML object>"
            ],
            "text/html": [
              "\n",
              "     <input type=\"file\" id=\"files-eb37b0dc-feeb-4807-9b9d-b34b4f2feefb\" name=\"files[]\" multiple disabled\n",
              "        style=\"border:none\" />\n",
              "     <output id=\"result-eb37b0dc-feeb-4807-9b9d-b34b4f2feefb\">\n",
              "      Upload widget is only available when the cell has been executed in the\n",
              "      current browser session. Please rerun this cell to enable.\n",
              "      </output>\n",
              "      <script>// Copyright 2017 Google LLC\n",
              "//\n",
              "// Licensed under the Apache License, Version 2.0 (the \"License\");\n",
              "// you may not use this file except in compliance with the License.\n",
              "// You may obtain a copy of the License at\n",
              "//\n",
              "//      http://www.apache.org/licenses/LICENSE-2.0\n",
              "//\n",
              "// Unless required by applicable law or agreed to in writing, software\n",
              "// distributed under the License is distributed on an \"AS IS\" BASIS,\n",
              "// WITHOUT WARRANTIES OR CONDITIONS OF ANY KIND, either express or implied.\n",
              "// See the License for the specific language governing permissions and\n",
              "// limitations under the License.\n",
              "\n",
              "/**\n",
              " * @fileoverview Helpers for google.colab Python module.\n",
              " */\n",
              "(function(scope) {\n",
              "function span(text, styleAttributes = {}) {\n",
              "  const element = document.createElement('span');\n",
              "  element.textContent = text;\n",
              "  for (const key of Object.keys(styleAttributes)) {\n",
              "    element.style[key] = styleAttributes[key];\n",
              "  }\n",
              "  return element;\n",
              "}\n",
              "\n",
              "// Max number of bytes which will be uploaded at a time.\n",
              "const MAX_PAYLOAD_SIZE = 100 * 1024;\n",
              "\n",
              "function _uploadFiles(inputId, outputId) {\n",
              "  const steps = uploadFilesStep(inputId, outputId);\n",
              "  const outputElement = document.getElementById(outputId);\n",
              "  // Cache steps on the outputElement to make it available for the next call\n",
              "  // to uploadFilesContinue from Python.\n",
              "  outputElement.steps = steps;\n",
              "\n",
              "  return _uploadFilesContinue(outputId);\n",
              "}\n",
              "\n",
              "// This is roughly an async generator (not supported in the browser yet),\n",
              "// where there are multiple asynchronous steps and the Python side is going\n",
              "// to poll for completion of each step.\n",
              "// This uses a Promise to block the python side on completion of each step,\n",
              "// then passes the result of the previous step as the input to the next step.\n",
              "function _uploadFilesContinue(outputId) {\n",
              "  const outputElement = document.getElementById(outputId);\n",
              "  const steps = outputElement.steps;\n",
              "\n",
              "  const next = steps.next(outputElement.lastPromiseValue);\n",
              "  return Promise.resolve(next.value.promise).then((value) => {\n",
              "    // Cache the last promise value to make it available to the next\n",
              "    // step of the generator.\n",
              "    outputElement.lastPromiseValue = value;\n",
              "    return next.value.response;\n",
              "  });\n",
              "}\n",
              "\n",
              "/**\n",
              " * Generator function which is called between each async step of the upload\n",
              " * process.\n",
              " * @param {string} inputId Element ID of the input file picker element.\n",
              " * @param {string} outputId Element ID of the output display.\n",
              " * @return {!Iterable<!Object>} Iterable of next steps.\n",
              " */\n",
              "function* uploadFilesStep(inputId, outputId) {\n",
              "  const inputElement = document.getElementById(inputId);\n",
              "  inputElement.disabled = false;\n",
              "\n",
              "  const outputElement = document.getElementById(outputId);\n",
              "  outputElement.innerHTML = '';\n",
              "\n",
              "  const pickedPromise = new Promise((resolve) => {\n",
              "    inputElement.addEventListener('change', (e) => {\n",
              "      resolve(e.target.files);\n",
              "    });\n",
              "  });\n",
              "\n",
              "  const cancel = document.createElement('button');\n",
              "  inputElement.parentElement.appendChild(cancel);\n",
              "  cancel.textContent = 'Cancel upload';\n",
              "  const cancelPromise = new Promise((resolve) => {\n",
              "    cancel.onclick = () => {\n",
              "      resolve(null);\n",
              "    };\n",
              "  });\n",
              "\n",
              "  // Wait for the user to pick the files.\n",
              "  const files = yield {\n",
              "    promise: Promise.race([pickedPromise, cancelPromise]),\n",
              "    response: {\n",
              "      action: 'starting',\n",
              "    }\n",
              "  };\n",
              "\n",
              "  cancel.remove();\n",
              "\n",
              "  // Disable the input element since further picks are not allowed.\n",
              "  inputElement.disabled = true;\n",
              "\n",
              "  if (!files) {\n",
              "    return {\n",
              "      response: {\n",
              "        action: 'complete',\n",
              "      }\n",
              "    };\n",
              "  }\n",
              "\n",
              "  for (const file of files) {\n",
              "    const li = document.createElement('li');\n",
              "    li.append(span(file.name, {fontWeight: 'bold'}));\n",
              "    li.append(span(\n",
              "        `(${file.type || 'n/a'}) - ${file.size} bytes, ` +\n",
              "        `last modified: ${\n",
              "            file.lastModifiedDate ? file.lastModifiedDate.toLocaleDateString() :\n",
              "                                    'n/a'} - `));\n",
              "    const percent = span('0% done');\n",
              "    li.appendChild(percent);\n",
              "\n",
              "    outputElement.appendChild(li);\n",
              "\n",
              "    const fileDataPromise = new Promise((resolve) => {\n",
              "      const reader = new FileReader();\n",
              "      reader.onload = (e) => {\n",
              "        resolve(e.target.result);\n",
              "      };\n",
              "      reader.readAsArrayBuffer(file);\n",
              "    });\n",
              "    // Wait for the data to be ready.\n",
              "    let fileData = yield {\n",
              "      promise: fileDataPromise,\n",
              "      response: {\n",
              "        action: 'continue',\n",
              "      }\n",
              "    };\n",
              "\n",
              "    // Use a chunked sending to avoid message size limits. See b/62115660.\n",
              "    let position = 0;\n",
              "    do {\n",
              "      const length = Math.min(fileData.byteLength - position, MAX_PAYLOAD_SIZE);\n",
              "      const chunk = new Uint8Array(fileData, position, length);\n",
              "      position += length;\n",
              "\n",
              "      const base64 = btoa(String.fromCharCode.apply(null, chunk));\n",
              "      yield {\n",
              "        response: {\n",
              "          action: 'append',\n",
              "          file: file.name,\n",
              "          data: base64,\n",
              "        },\n",
              "      };\n",
              "\n",
              "      let percentDone = fileData.byteLength === 0 ?\n",
              "          100 :\n",
              "          Math.round((position / fileData.byteLength) * 100);\n",
              "      percent.textContent = `${percentDone}% done`;\n",
              "\n",
              "    } while (position < fileData.byteLength);\n",
              "  }\n",
              "\n",
              "  // All done.\n",
              "  yield {\n",
              "    response: {\n",
              "      action: 'complete',\n",
              "    }\n",
              "  };\n",
              "}\n",
              "\n",
              "scope.google = scope.google || {};\n",
              "scope.google.colab = scope.google.colab || {};\n",
              "scope.google.colab._files = {\n",
              "  _uploadFiles,\n",
              "  _uploadFilesContinue,\n",
              "};\n",
              "})(self);\n",
              "</script> "
            ]
          },
          "metadata": {}
        },
        {
          "output_type": "stream",
          "name": "stdout",
          "text": [
            "Saving gato1.jpeg to gato1.jpeg\n",
            "Saving gato2.jpeg to gato2.jpeg\n",
            "Saving perro1.jpeg to perro1.jpeg\n",
            "Imágenes en /content/samples\n",
            "total 636\n",
            "drwxr-xr-x 2 root root   4096 Oct  5 22:47 .\n",
            "drwxr-xr-x 1 root root   4096 Oct  5 22:47 ..\n",
            "-rw-r--r-- 1 root root 307343 Oct  5 22:47 gato1.jpeg\n",
            "-rw-r--r-- 1 root root  54988 Oct  5 22:47 gato2.jpeg\n",
            "-rw-r--r-- 1 root root 270615 Oct  5 22:47 perro1.jpeg\n"
          ]
        }
      ]
    },
    {
      "cell_type": "code",
      "source": [
        "import tensorflow as tf, tensorflow_datasets as tfds\n",
        "import numpy as np\n",
        "\n",
        "SEED = 42\n",
        "IMG_SIZE = (150, 150)\n",
        "BATCH = 32\n",
        "EPOCHS = 5\n",
        "PER_CLASS_TRAIN = 2000  # 2000 gatos + 2000 perros = 4000\n",
        "PER_CLASS_VAL   = 400   #  400 gatos +  400 perros = 800\n",
        "\n",
        "AUTOTUNE = tf.data.AUTOTUNE\n",
        "tf.random.set_seed(SEED); np.random.seed(SEED)\n",
        "\n",
        "# Carga única del split 'train'\n",
        "(ds_all,), info = tfds.load(\"cats_vs_dogs\", split=[\"train\"], as_supervised=True, with_info=True)\n",
        "\n",
        "def balanced_subset(ds, per_class):\n",
        "    cats = ds.filter(lambda x,y: tf.equal(y, 0)).take(per_class)\n",
        "    dogs = ds.filter(lambda x,y: tf.equal(y, 1)).take(per_class)\n",
        "    out  = cats.concatenate(dogs).shuffle(2*per_class, seed=SEED)\n",
        "    return out\n",
        "\n",
        "def prep(x, y, augment=False):\n",
        "    x = tf.image.resize(x, IMG_SIZE)\n",
        "    x = tf.cast(x, tf.float32) / 255.0\n",
        "    if augment:\n",
        "        x = tf.image.random_flip_left_right(x)\n",
        "        x = tf.image.random_brightness(x, 0.1)\n",
        "    return x, y\n",
        "\n",
        "train_raw = balanced_subset(ds_all, PER_CLASS_TRAIN)\n",
        "val_raw   = balanced_subset(ds_all.skip(2*PER_CLASS_TRAIN), PER_CLASS_VAL)\n",
        "\n",
        "train_ds = (train_raw.map(lambda x,y: prep(x,y,augment=True),  num_parallel_calls=AUTOTUNE)\n",
        "                    .batch(BATCH).prefetch(AUTOTUNE))\n",
        "val_ds   = (val_raw.map(  lambda x,y: prep(x,y,augment=False), num_parallel_calls=AUTOTUNE)\n",
        "                    .batch(BATCH).prefetch(AUTOTUNE))\n",
        "\n",
        "print(\"Train batches:\", tf.data.experimental.cardinality(train_ds).numpy(),\n",
        "      \"| Val batches:\", tf.data.experimental.cardinality(val_ds).numpy())\n"
      ],
      "metadata": {
        "colab": {
          "base_uri": "https://localhost:8080/"
        },
        "id": "Ll4KttEcgFru",
        "outputId": "c73f9710-1fd2-4b08-f9d5-84a6b3e95a35"
      },
      "execution_count": 6,
      "outputs": [
        {
          "output_type": "stream",
          "name": "stdout",
          "text": [
            "Train batches: -2 | Val batches: -2\n"
          ]
        }
      ]
    },
    {
      "cell_type": "markdown",
      "source": [],
      "metadata": {
        "id": "sP0EhbhlgFMt"
      }
    },
    {
      "cell_type": "code",
      "source": [
        "import matplotlib.pyplot as plt\n",
        "from tensorflow.keras.utils import get_file, load_img, img_to_array\n",
        "from pathlib import Path\n",
        "\n",
        "MODEL_PATH = \"/content/cats_vs_dogs_model.keras\"\n",
        "WEIGHTS_PATH = \"/content/cats_vs_dogs.weights.h5\"\n",
        "CLASS_NAMES = [\"cat\",\"dog\"]\n",
        "\n",
        "def build_model():\n",
        "    m = tf.keras.Sequential([\n",
        "        tf.keras.layers.Conv2D(32, 3, activation='relu', input_shape=(*IMG_SIZE,3)),\n",
        "        tf.keras.layers.MaxPool2D(),\n",
        "        tf.keras.layers.Conv2D(64, 3, activation='relu'),\n",
        "        tf.keras.layers.MaxPool2D(),\n",
        "        tf.keras.layers.Conv2D(128, 3, activation='relu'),\n",
        "        tf.keras.layers.MaxPool2D(),\n",
        "        tf.keras.layers.Flatten(),\n",
        "        tf.keras.layers.Dense(128, activation='relu'),\n",
        "        tf.keras.layers.Dropout(0.5),\n",
        "        tf.keras.layers.Dense(1, activation='sigmoid')\n",
        "    ])\n",
        "    m.compile(optimizer=\"adam\", loss=\"binary_crossentropy\", metrics=[\"accuracy\"])\n",
        "    return m\n",
        "\n",
        "model = build_model()\n",
        "callbacks = [tf.keras.callbacks.EarlyStopping(monitor=\"val_accuracy\", patience=2, restore_best_weights=True)]\n",
        "history = model.fit(train_ds, epochs=EPOCHS, validation_data=val_ds, callbacks=callbacks)\n",
        "\n",
        "val_loss, val_acc = model.evaluate(val_ds, verbose=0)\n",
        "print(f\"Validación — acc: {val_acc:.3f} | loss: {val_loss:.3f}\")\n",
        "\n",
        "plt.figure()\n",
        "plt.plot(history.history[\"accuracy\"], label=\"Entrenamiento\")\n",
        "plt.plot(history.history[\"val_accuracy\"], label=\"Validación\")\n",
        "plt.title(\"Precisión por época\"); plt.xlabel(\"Época\"); plt.ylabel(\"Precisión\"); plt.legend(); plt.show()\n",
        "\n",
        "model.save(MODEL_PATH)\n",
        "model.save_weights(WEIGHTS_PATH)\n",
        "print(\"Guardado:\", MODEL_PATH, \"|\", WEIGHTS_PATH)\n"
      ],
      "metadata": {
        "colab": {
          "base_uri": "https://localhost:8080/",
          "height": 682
        },
        "id": "a4TWGb_Ij8Wi",
        "outputId": "f6a9057f-68b3-4976-8d1c-349d01054f3c"
      },
      "execution_count": 7,
      "outputs": [
        {
          "output_type": "stream",
          "name": "stdout",
          "text": [
            "Epoch 1/5\n",
            "\u001b[1m125/125\u001b[0m \u001b[32m━━━━━━━━━━━━━━━━━━━━\u001b[0m\u001b[37m\u001b[0m \u001b[1m140s\u001b[0m 1s/step - accuracy: 0.4915 - loss: 0.7494 - val_accuracy: 0.5362 - val_loss: 0.6930\n",
            "Epoch 2/5\n",
            "\u001b[1m125/125\u001b[0m \u001b[32m━━━━━━━━━━━━━━━━━━━━\u001b[0m\u001b[37m\u001b[0m \u001b[1m136s\u001b[0m 1s/step - accuracy: 0.4944 - loss: 0.6930 - val_accuracy: 0.5550 - val_loss: 0.6880\n",
            "Epoch 3/5\n",
            "\u001b[1m125/125\u001b[0m \u001b[32m━━━━━━━━━━━━━━━━━━━━\u001b[0m\u001b[37m\u001b[0m \u001b[1m142s\u001b[0m 1s/step - accuracy: 0.5534 - loss: 0.6881 - val_accuracy: 0.5925 - val_loss: 0.6779\n",
            "Epoch 4/5\n",
            "\u001b[1m125/125\u001b[0m \u001b[32m━━━━━━━━━━━━━━━━━━━━\u001b[0m\u001b[37m\u001b[0m \u001b[1m142s\u001b[0m 1s/step - accuracy: 0.6059 - loss: 0.6659 - val_accuracy: 0.6162 - val_loss: 0.6297\n",
            "Epoch 5/5\n",
            "\u001b[1m125/125\u001b[0m \u001b[32m━━━━━━━━━━━━━━━━━━━━\u001b[0m\u001b[37m\u001b[0m \u001b[1m130s\u001b[0m 978ms/step - accuracy: 0.6541 - loss: 0.6293 - val_accuracy: 0.6513 - val_loss: 0.6268\n",
            "Validación — acc: 0.651 | loss: 0.627\n"
          ]
        },
        {
          "output_type": "display_data",
          "data": {
            "text/plain": [
              "<Figure size 640x480 with 1 Axes>"
            ],
            "image/png": "[encoded data removed]"
          },
          "metadata": {}
        },
        {
          "output_type": "stream",
          "name": "stdout",
          "text": [
            "Guardado: /content/cats_vs_dogs_model.keras | /content/cats_vs_dogs.weights.h5\n"
          ]
        }
      ]
    },
    {
      "cell_type": "code",
      "source": [
        "from pathlib import Path\n",
        "\n",
        "def _prep_image_array(img):\n",
        "    arr = img_to_array(img)/255.0\n",
        "    return np.expand_dims(arr, 0)\n",
        "\n",
        "def predict_array(x):\n",
        "    p = float(model.predict(x, verbose=0)[0][0])\n",
        "    idx = 1 if p>=0.5 else 0\n",
        "    conf = p if idx==1 else (1-p)\n",
        "    return CLASS_NAMES[idx], conf\n",
        "\n",
        "def predict_file(path):\n",
        "    img = load_img(path, target_size=IMG_SIZE)\n",
        "    x = _prep_image_array(img)\n",
        "    label, conf = predict_array(x)\n",
        "    print(f\"[FILE] {Path(path).name} -> {label} ({conf*100:.1f}%)\")\n",
        "\n",
        "CARPETA_SAMPLES = \"/content/samples\"\n",
        "EXTS = {\".jpg\", \".jpeg\", \".png\", \".webp\", \".bmp\"}\n",
        "\n",
        "imgs = [p for p in Path(CARPETA_SAMPLES).iterdir() if p.suffix.lower() in EXTS]\n",
        "print(f\"Encontradas {len(imgs)} imágenes en {CARPETA_SAMPLES}\")\n",
        "for f in imgs:\n",
        "    predict_file(str(f))\n"
      ],
      "metadata": {
        "colab": {
          "base_uri": "https://localhost:8080/"
        },
        "id": "8DVf-cvJmz1s",
        "outputId": "08553ca2-59c9-4f8b-f4a9-7af0481ac797"
      },
      "execution_count": 9,
      "outputs": [
        {
          "output_type": "stream",
          "name": "stdout",
          "text": [
            "Encontradas 4 imágenes en /content/samples\n",
            "[FILE] perro2.jpg -> dog (82.7%)\n",
            "[FILE] gato2.jpeg -> dog (64.4%)\n",
            "[FILE] perro1.jpeg -> dog (77.7%)\n",
            "[FILE] gato1.jpeg -> cat (55.7%)\n"
          ]
        }
      ]
    }
  ]
}